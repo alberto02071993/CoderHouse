{
  "nbformat": 4,
  "nbformat_minor": 0,
  "metadata": {
    "colab": {
      "provenance": [],
      "authorship_tag": "ABX9TyO9t79yfiZ7lZvfvg0Bs9ul",
      "include_colab_link": true
    },
    "kernelspec": {
      "name": "python3",
      "display_name": "Python 3"
    },
    "language_info": {
      "name": "python"
    }
  },
  "cells": [
    {
      "cell_type": "markdown",
      "metadata": {
        "id": "view-in-github",
        "colab_type": "text"
      },
      "source": [
        "<a href=\"https://colab.research.google.com/github/alberto02071993/CoderHouse/blob/main/Proyecto_Final_Coderhouse.ipynb\" target=\"_parent\"><img src=\"https://colab.research.google.com/assets/colab-badge.svg\" alt=\"Open In Colab\"/></a>"
      ]
    },
    {
      "cell_type": "markdown",
      "source": [
        "# **Proyecto Final**"
      ],
      "metadata": {
        "id": "DuPIjfLZMnt0"
      }
    },
    {
      "cell_type": "markdown",
      "source": [
        "# **Antecedentes**"
      ],
      "metadata": {
        "id": "JM1RjYsfV41h"
      }
    },
    {
      "cell_type": "markdown",
      "source": [
        "https://docs.google.com/document/d/1_QLnVyEYIy0HrudKMmJEVI1FQPX598QRZoZuaxSNBqY/edit?usp=sharing"
      ],
      "metadata": {
        "id": "zf2P835HVtut"
      }
    },
    {
      "cell_type": "markdown",
      "source": [
        "# **Objetivos**"
      ],
      "metadata": {
        "id": "bKklgLi4MsBP"
      }
    },
    {
      "cell_type": "markdown",
      "source": [
        "\n",
        "\n",
        "*   Automatizar la documentación del **80%** de los **200** insumos de datos, utilizando ChatGPT, para el **Q3 del 2025**.\n",
        "*   Clarificar el **100%** de los requerimientos ambiguos identificados por ChatGPT para el **Q3 del 2025**, mediante la generación de preguntas y definiciones precisas.\n",
        "*   Generar diccionarios de datos completos para el **100%** de los insumos de datos antes del el **Q3 del 2025**, utilizando ChatGPT para extraer y relacionar la información relevante.\n",
        "\n",
        "\n",
        "\n",
        "\n"
      ],
      "metadata": {
        "id": "X1dhvkqSM11z"
      }
    },
    {
      "cell_type": "markdown",
      "source": [
        "# **Metodología**"
      ],
      "metadata": {
        "id": "9mOKRV-xORVN"
      }
    },
    {
      "cell_type": "markdown",
      "source": [
        "Este proyecto de migración de datos se ejecutará mediante una metodología estructurada que combina la eficiencia de la inteligencia artificial con la supervisión y validación humana. El objetivo es garantizar una migración precisa, eficiente y que cumpla con los objetivos establecidos.  Entiendo que necesitas una descripción detallada y profesional del procedimiento para un trabajo de proyecto. Aquí tienes una propuesta que puedes adaptar:\n",
        "\n",
        "\n",
        "**Fase 1: Preparación y Análisis de Datos**\n",
        "\n",
        "1.1. Evaluación y Limpieza de Datos:\n",
        "Se realizará un análisis exhaustivo de los datos provenientes de fuentes externas. Se utilizarán herramientas de IA, específicamente ChatGPT, para identificar patrones, anomalías e inconsistencias.\n",
        "Adicional el equipo de migración validará los hallazgos de la IA y determinará las acciones correctivas necesarias. Se establecerán reglas de limpieza y transformación de datos.\n",
        "\n",
        "**1.2. Documentación y Diccionario de Datos:**\n",
        "ChatGPT se utilizará para automatizar la generación de documentación estructurada y diccionarios de datos.\n",
        "Se establecerá un glosario de términos clave para garantizar la coherencia y comprensión entre los miembros del equipo.\n",
        "\n",
        "**Fase 2: Clarificación de Requerimientos y Diseño**\n",
        "\n",
        "**2.1. Análisis y Clarificación de Requerimientos:**\n",
        "Se utilizará ChatGPT para analizar los requerimientos escritos y detectar ambigüedades.\n",
        "Se generarán preguntas específicas para obtener aclaraciones de las áreas correspondientes.\n",
        "\n",
        "**2.2. Diseño de la Migración:**\n",
        "Se diseñará el proceso de migración, definiendo las transformaciones necesarias y el mapeo de datos a la nueva plataforma.\n",
        "Se crearán ayudas visuales con el soporte de IA para facilitar la comprensión del proceso.\n",
        "\n",
        "Fase 3: Ejecución y Validación\n",
        "\n",
        "**3.1. Desarrollo y Pruebas:**\n",
        "Se desarrollarán scripts y procesos de migración, siguiendo el diseño establecido.\n",
        "Se realizarán pruebas exhaustivas para validar la integridad y exactitud de los datos migrados.\n",
        "\n",
        "**3.2. Validación de Datos:**\n",
        "Se utilizará ChatGPT para validar los datos migrados, identificando posibles errores y anomalías.\n",
        "El equipo humano validará los resultados y realizará las correcciones necesarias.\n",
        "\n",
        "**3.3. Matriz de Priorización:**\n",
        "Se utilizara la IA, para poder realizar la matriz de priorización, con el objetivo de poder migrar de primeras las informaciones mas relevantes.\n",
        "\n",
        "**Fase 4: Implementación y Monitoreo**\n",
        "\n",
        "**4.1. Implementación de la Migración:**\n",
        "Se realizará la migración de datos a la nueva plataforma, siguiendo el plan establecido.\n",
        "\n",
        "**4.2. Monitoreo y Evaluación:**\n",
        "Se monitoreará el rendimiento de la nueva plataforma y la integridad de los datos migrados.\n",
        "Se evaluará el proceso de migración y se documentarán las lecciones aprendidas.\n"
      ],
      "metadata": {
        "id": "XoZW5TqROWa_"
      }
    },
    {
      "cell_type": "markdown",
      "source": [
        "# **Técnicas de prompting utilizadas**"
      ],
      "metadata": {
        "id": "P7r20S3LQEhy"
      }
    },
    {
      "cell_type": "markdown",
      "source": [
        "\n",
        "*   **Prompting con instrucciones claras y específicas:**\n",
        "\n",
        "Proporcionaremos instrucciones detalladas y precisas, definiendo claramente el objetivo de cada tarea.\n",
        "Ejemplo: \"Analiza este archivo CSV **[nombre del archivo]** y extrae los nombres de las columnas, sus tipos de datos y una breve descripción de cada columna. Formatea la salida como una tabla.\"\n",
        "\n",
        "*   **Prompting para generación de diccionarios de datos:**\n",
        "\n",
        "Estructuración estricta de como debe de entregar la información, definiendo, los campos que se desean en la salida del prompt.\n",
        "Ejemplo: \"Genera un diccionario de datos para el siguiente archivo CSV, incluyendo los campos: Nombre del campo, Tipo de dato, Descripción, Restricciones y Relaciones.\"\n",
        "\n",
        "\n",
        "*   **Prompting para análisis de ambigüedades:**\n",
        "\n",
        "Al solicitarle a chatGPT, que identifique las posibles ambigüedades, y que genere las preguntas para clarificar dichas ambigüedades, nos aseguramos de que los requerimientos sean lo mas claros posibles.\n",
        "\n",
        "\n",
        "*   **Prompting Iterativo y Refinamiento:**\n",
        "\n",
        "Realizaremos múltiples iteraciones de prompts, refinando las preguntas y ajustando los parámetros para obtener los resultados deseados.\n",
        "\n"
      ],
      "metadata": {
        "id": "GIVVUy9ZQ0AX"
      }
    },
    {
      "cell_type": "markdown",
      "source": [
        "# **Ejemplos de Prompt**"
      ],
      "metadata": {
        "id": "Gi3sqCWOSNUD"
      }
    },
    {
      "cell_type": "markdown",
      "source": [
        "\n",
        "*   **Extracción Rápida de Datos**:\n",
        "    \"Archivo: [nombre del archivo]. Campos: nombres de columnas, tipos.\"\n",
        "    \"CSV: [nombre]. Diccionario simple: nombre, tipo, descripción.\"\n",
        "\n",
        "\n",
        "*   **Validación Abreviada**: \"Datos: [nombre del archivo]. Errores: lista rápida.\" \"Validar [nombre]. Anomalías: solo lista.\"\n",
        "\n",
        "*   **Generación de Formatos Simplificados**: \"Datos: [datos]. Tabla corta: nombre, valor.\" \"Requerimiento: [requerimiento]. Preguntas: lista simple.\"\n",
        "\n",
        "\n",
        "*   **Analiza el archivo 'clientes_ventas.csv'**. Extrae los nombres de las columnas, determina el tipo de datos de cada columna (texto, número, fecha) y proporciona una breve descripción del contenido de cada columna. Presenta la información en formato de tabla con las columnas 'Nombre de Columna', 'Tipo de Dato' y 'Descripción'.\n",
        "\n",
        "*   **Para el archivo 'productos.json'**, genera una lista de todos los campos con sus correspondientes tipos de dato. Quiero que la salida este en formato de lista, con el siguiente formato 'campo : tipo de dato'\n",
        "\n",
        "\n",
        "*   **Crea un diccionario de datos completo para el archivo 'transacciones.json'**. Incluye los campos: 'Nombre del Campo', 'Tipo de Dato', 'Descripción', 'Restricciones' (por ejemplo, valores permitidos, longitud máxima) y 'Relaciones' (si aplica).\n",
        "\n",
        "*   **El requerimiento es: 'Los datos de los clientes deben ser actualizados'.** Identifica las posibles ambigüedades en esta frase y formula preguntas para clarificar qué significa exactamente 'actualizados', qué datos se incluyen y con qué frecuencia debe realizarse la actualización.\n",
        "\n",
        "\n"
      ],
      "metadata": {
        "id": "HPKFHcdbSODj"
      }
    }
  ]
}